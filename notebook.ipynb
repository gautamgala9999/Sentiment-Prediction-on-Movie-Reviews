{
 "cells": [
  {
   "cell_type": "markdown",
   "id": "3618fe1a",
   "metadata": {
    "papermill": {
     "duration": 0.011019,
     "end_time": "2023-08-13T11:32:52.134805",
     "exception": false,
     "start_time": "2023-08-13T11:32:52.123786",
     "status": "completed"
    },
    "tags": []
   },
   "source": [
    "# imports and merge"
   ]
  },
  {
   "cell_type": "code",
   "execution_count": 1,
   "id": "3b655322",
   "metadata": {
    "execution": {
     "iopub.execute_input": "2023-08-13T11:32:52.158898Z",
     "iopub.status.busy": "2023-08-13T11:32:52.157517Z",
     "iopub.status.idle": "2023-08-13T11:32:55.874068Z",
     "shell.execute_reply": "2023-08-13T11:32:55.873148Z"
    },
    "papermill": {
     "duration": 3.730962,
     "end_time": "2023-08-13T11:32:55.876465",
     "exception": false,
     "start_time": "2023-08-13T11:32:52.145503",
     "status": "completed"
    },
    "tags": []
   },
   "outputs": [
    {
     "name": "stdout",
     "output_type": "stream",
     "text": [
      "final\n",
      "merged\n"
     ]
    }
   ],
   "source": [
    "print('final')\n",
    "import pandas as pd\n",
    "import warnings\n",
    "from sklearn.feature_extraction.text import TfidfVectorizer\n",
    "from sklearn.model_selection import train_test_split\n",
    "from sklearn.metrics import accuracy_score\n",
    "warnings.filterwarnings(\"ignore\")\n",
    "train = pd.read_csv('/kaggle/input/sentiment-prediction-on-movie-reviews/train.csv')\n",
    "test = pd.read_csv('/kaggle/input/sentiment-prediction-on-movie-reviews/test.csv')\n",
    "movies = pd.read_csv('/kaggle/input/sentiment-prediction-on-movie-reviews/movies.csv')\n",
    "movies.drop_duplicates(subset=['movieid'],keep='first',inplace=True)\n",
    "dataframe = pd.merge(train,movies,how='left' ,on='movieid')\n",
    "merged_test = pd.merge(test,movies,how='left' ,on='movieid')\n",
    "\n",
    "print('merged')\n",
    "# dataframe.to_csv(\"dataframe.csv\", index=False)"
   ]
  },
  {
   "cell_type": "markdown",
   "id": "77295e87",
   "metadata": {
    "papermill": {
     "duration": 0.010234,
     "end_time": "2023-08-13T11:32:55.897465",
     "exception": false,
     "start_time": "2023-08-13T11:32:55.887231",
     "status": "completed"
    },
    "tags": []
   },
   "source": [
    "# Exploratory Data Analysis"
   ]
  },
  {
   "cell_type": "code",
   "execution_count": 2,
   "id": "6143c52f",
   "metadata": {
    "execution": {
     "iopub.execute_input": "2023-08-13T11:32:55.920472Z",
     "iopub.status.busy": "2023-08-13T11:32:55.920114Z",
     "iopub.status.idle": "2023-08-13T11:32:55.950692Z",
     "shell.execute_reply": "2023-08-13T11:32:55.949318Z"
    },
    "papermill": {
     "duration": 0.044648,
     "end_time": "2023-08-13T11:32:55.952737",
     "exception": false,
     "start_time": "2023-08-13T11:32:55.908089",
     "status": "completed"
    },
    "tags": []
   },
   "outputs": [
    {
     "data": {
      "text/html": [
       "<div>\n",
       "<style scoped>\n",
       "    .dataframe tbody tr th:only-of-type {\n",
       "        vertical-align: middle;\n",
       "    }\n",
       "\n",
       "    .dataframe tbody tr th {\n",
       "        vertical-align: top;\n",
       "    }\n",
       "\n",
       "    .dataframe thead th {\n",
       "        text-align: right;\n",
       "    }\n",
       "</style>\n",
       "<table border=\"1\" class=\"dataframe\">\n",
       "  <thead>\n",
       "    <tr style=\"text-align: right;\">\n",
       "      <th></th>\n",
       "      <th>movieid</th>\n",
       "      <th>reviewerName</th>\n",
       "      <th>isFrequentReviewer</th>\n",
       "      <th>reviewText</th>\n",
       "      <th>sentiment</th>\n",
       "      <th>title</th>\n",
       "      <th>audienceScore</th>\n",
       "      <th>rating</th>\n",
       "      <th>ratingContents</th>\n",
       "      <th>releaseDateTheaters</th>\n",
       "      <th>releaseDateStreaming</th>\n",
       "      <th>runtimeMinutes</th>\n",
       "      <th>genre</th>\n",
       "      <th>originalLanguage</th>\n",
       "      <th>director</th>\n",
       "      <th>boxOffice</th>\n",
       "      <th>distributor</th>\n",
       "      <th>soundType</th>\n",
       "    </tr>\n",
       "  </thead>\n",
       "  <tbody>\n",
       "    <tr>\n",
       "      <th>0</th>\n",
       "      <td>marvelous_pirate</td>\n",
       "      <td>Benjamin Henry</td>\n",
       "      <td>False</td>\n",
       "      <td>Henry Selick’s first movie since 2009’s Corali...</td>\n",
       "      <td>POSITIVE</td>\n",
       "      <td>Marvelous Pirate</td>\n",
       "      <td>65.0</td>\n",
       "      <td>PG-13</td>\n",
       "      <td>['Violence', 'Brief Strong Language', 'Substan...</td>\n",
       "      <td>2022-10-21</td>\n",
       "      <td>2022-10-28</td>\n",
       "      <td>105.0</td>\n",
       "      <td>Comedy, Animation, Adventure, Fantasy</td>\n",
       "      <td>English</td>\n",
       "      <td>Bennie Basso</td>\n",
       "      <td>NaN</td>\n",
       "      <td>Netflix</td>\n",
       "      <td>NaN</td>\n",
       "    </tr>\n",
       "    <tr>\n",
       "      <th>1</th>\n",
       "      <td>tony_montana_frodo_baggins_v_rocky_balboa</td>\n",
       "      <td>Felicia Lopez</td>\n",
       "      <td>False</td>\n",
       "      <td>With a cast that reads like the Vogue Oscar pa...</td>\n",
       "      <td>NEGATIVE</td>\n",
       "      <td>Tony Montana Frodo Baggins V Rocky Balboa</td>\n",
       "      <td>NaN</td>\n",
       "      <td>NaN</td>\n",
       "      <td>NaN</td>\n",
       "      <td>NaN</td>\n",
       "      <td>2013-01-08</td>\n",
       "      <td>91.0</td>\n",
       "      <td>Action</td>\n",
       "      <td>English</td>\n",
       "      <td>Alma White</td>\n",
       "      <td>NaN</td>\n",
       "      <td>NaN</td>\n",
       "      <td>NaN</td>\n",
       "    </tr>\n",
       "    <tr>\n",
       "      <th>2</th>\n",
       "      <td>darth_vader_katniss_everdeen_sorcerer_donnie_d...</td>\n",
       "      <td>Mr. Charles Burgess</td>\n",
       "      <td>True</td>\n",
       "      <td>Creed II does not give us anything but another...</td>\n",
       "      <td>POSITIVE</td>\n",
       "      <td>Darth Vader Katniss Everdeen Sorcerer Donnie D...</td>\n",
       "      <td>80.0</td>\n",
       "      <td>PG-13</td>\n",
       "      <td>['Language', 'A Scene of Sensuality', 'Sports ...</td>\n",
       "      <td>2018-11-21</td>\n",
       "      <td>2019-02-12</td>\n",
       "      <td>130.0</td>\n",
       "      <td>Drama</td>\n",
       "      <td>English</td>\n",
       "      <td>Bobby Oleary</td>\n",
       "      <td>$115.7M</td>\n",
       "      <td>Warner Bros. Pictures, Metro-Goldwyn-Mayer</td>\n",
       "      <td>NaN</td>\n",
       "    </tr>\n",
       "    <tr>\n",
       "      <th>3</th>\n",
       "      <td>lara_croft_glimmer</td>\n",
       "      <td>Ryan Barrett</td>\n",
       "      <td>False</td>\n",
       "      <td>I know what you're thinking, but this is no Li...</td>\n",
       "      <td>POSITIVE</td>\n",
       "      <td>Lara Croft Glimmer</td>\n",
       "      <td>NaN</td>\n",
       "      <td>NaN</td>\n",
       "      <td>NaN</td>\n",
       "      <td>NaN</td>\n",
       "      <td>2020-06-02</td>\n",
       "      <td>15.0</td>\n",
       "      <td>Drama</td>\n",
       "      <td>Spanish</td>\n",
       "      <td>Eric Hutcherson</td>\n",
       "      <td>NaN</td>\n",
       "      <td>NaN</td>\n",
       "      <td>NaN</td>\n",
       "    </tr>\n",
       "    <tr>\n",
       "      <th>4</th>\n",
       "      <td>jason_bourne_surreal_the_terminator_indiana_jones</td>\n",
       "      <td>Alexander Glover</td>\n",
       "      <td>False</td>\n",
       "      <td>Director Fernando Meirelles tells the story wi...</td>\n",
       "      <td>POSITIVE</td>\n",
       "      <td>Jason Bourne Surreal The Terminator Indiana Jones</td>\n",
       "      <td>97.0</td>\n",
       "      <td>R</td>\n",
       "      <td>['Language', 'Drug Content', 'Sexuality', 'Str...</td>\n",
       "      <td>2003-01-17</td>\n",
       "      <td>2004-06-08</td>\n",
       "      <td>131.0</td>\n",
       "      <td>Crime, Drama</td>\n",
       "      <td>Portuguese (Brazil)</td>\n",
       "      <td>John Trent</td>\n",
       "      <td>$7.6M</td>\n",
       "      <td>Miramax Films</td>\n",
       "      <td>Surround, Dolby SR, Dolby Digital, Dolby A, Do...</td>\n",
       "    </tr>\n",
       "  </tbody>\n",
       "</table>\n",
       "</div>"
      ],
      "text/plain": [
       "                                             movieid         reviewerName  \\\n",
       "0                                   marvelous_pirate       Benjamin Henry   \n",
       "1          tony_montana_frodo_baggins_v_rocky_balboa        Felicia Lopez   \n",
       "2  darth_vader_katniss_everdeen_sorcerer_donnie_d...  Mr. Charles Burgess   \n",
       "3                                 lara_croft_glimmer         Ryan Barrett   \n",
       "4  jason_bourne_surreal_the_terminator_indiana_jones     Alexander Glover   \n",
       "\n",
       "   isFrequentReviewer                                         reviewText  \\\n",
       "0               False  Henry Selick’s first movie since 2009’s Corali...   \n",
       "1               False  With a cast that reads like the Vogue Oscar pa...   \n",
       "2                True  Creed II does not give us anything but another...   \n",
       "3               False  I know what you're thinking, but this is no Li...   \n",
       "4               False  Director Fernando Meirelles tells the story wi...   \n",
       "\n",
       "  sentiment                                              title  audienceScore  \\\n",
       "0  POSITIVE                                   Marvelous Pirate           65.0   \n",
       "1  NEGATIVE          Tony Montana Frodo Baggins V Rocky Balboa            NaN   \n",
       "2  POSITIVE  Darth Vader Katniss Everdeen Sorcerer Donnie D...           80.0   \n",
       "3  POSITIVE                                 Lara Croft Glimmer            NaN   \n",
       "4  POSITIVE  Jason Bourne Surreal The Terminator Indiana Jones           97.0   \n",
       "\n",
       "  rating                                     ratingContents  \\\n",
       "0  PG-13  ['Violence', 'Brief Strong Language', 'Substan...   \n",
       "1    NaN                                                NaN   \n",
       "2  PG-13  ['Language', 'A Scene of Sensuality', 'Sports ...   \n",
       "3    NaN                                                NaN   \n",
       "4      R  ['Language', 'Drug Content', 'Sexuality', 'Str...   \n",
       "\n",
       "  releaseDateTheaters releaseDateStreaming  runtimeMinutes  \\\n",
       "0          2022-10-21           2022-10-28           105.0   \n",
       "1                 NaN           2013-01-08            91.0   \n",
       "2          2018-11-21           2019-02-12           130.0   \n",
       "3                 NaN           2020-06-02            15.0   \n",
       "4          2003-01-17           2004-06-08           131.0   \n",
       "\n",
       "                                   genre     originalLanguage  \\\n",
       "0  Comedy, Animation, Adventure, Fantasy              English   \n",
       "1                                 Action              English   \n",
       "2                                  Drama              English   \n",
       "3                                  Drama              Spanish   \n",
       "4                           Crime, Drama  Portuguese (Brazil)   \n",
       "\n",
       "          director boxOffice                                 distributor  \\\n",
       "0     Bennie Basso       NaN                                     Netflix   \n",
       "1       Alma White       NaN                                         NaN   \n",
       "2     Bobby Oleary   $115.7M  Warner Bros. Pictures, Metro-Goldwyn-Mayer   \n",
       "3  Eric Hutcherson       NaN                                         NaN   \n",
       "4       John Trent     $7.6M                               Miramax Films   \n",
       "\n",
       "                                           soundType  \n",
       "0                                                NaN  \n",
       "1                                                NaN  \n",
       "2                                                NaN  \n",
       "3                                                NaN  \n",
       "4  Surround, Dolby SR, Dolby Digital, Dolby A, Do...  "
      ]
     },
     "execution_count": 2,
     "metadata": {},
     "output_type": "execute_result"
    }
   ],
   "source": [
    "dataframe.head()"
   ]
  },
  {
   "cell_type": "code",
   "execution_count": 3,
   "id": "a70ebe0f",
   "metadata": {
    "execution": {
     "iopub.execute_input": "2023-08-13T11:32:55.977044Z",
     "iopub.status.busy": "2023-08-13T11:32:55.976463Z",
     "iopub.status.idle": "2023-08-13T11:32:55.982324Z",
     "shell.execute_reply": "2023-08-13T11:32:55.980963Z"
    },
    "papermill": {
     "duration": 0.020357,
     "end_time": "2023-08-13T11:32:55.984269",
     "exception": false,
     "start_time": "2023-08-13T11:32:55.963912",
     "status": "completed"
    },
    "tags": []
   },
   "outputs": [
    {
     "data": {
      "text/plain": [
       "(162758, 18)"
      ]
     },
     "execution_count": 3,
     "metadata": {},
     "output_type": "execute_result"
    }
   ],
   "source": [
    "dataframe.shape"
   ]
  },
  {
   "cell_type": "code",
   "execution_count": 4,
   "id": "ee40a54d",
   "metadata": {
    "execution": {
     "iopub.execute_input": "2023-08-13T11:32:56.008615Z",
     "iopub.status.busy": "2023-08-13T11:32:56.008243Z",
     "iopub.status.idle": "2023-08-13T11:32:56.015707Z",
     "shell.execute_reply": "2023-08-13T11:32:56.014590Z"
    },
    "papermill": {
     "duration": 0.022857,
     "end_time": "2023-08-13T11:32:56.018221",
     "exception": false,
     "start_time": "2023-08-13T11:32:55.995364",
     "status": "completed"
    },
    "tags": []
   },
   "outputs": [
    {
     "data": {
      "text/plain": [
       "movieid                  object\n",
       "reviewerName             object\n",
       "isFrequentReviewer         bool\n",
       "reviewText               object\n",
       "sentiment                object\n",
       "title                    object\n",
       "audienceScore           float64\n",
       "rating                   object\n",
       "ratingContents           object\n",
       "releaseDateTheaters      object\n",
       "releaseDateStreaming     object\n",
       "runtimeMinutes          float64\n",
       "genre                    object\n",
       "originalLanguage         object\n",
       "director                 object\n",
       "boxOffice                object\n",
       "distributor              object\n",
       "soundType                object\n",
       "dtype: object"
      ]
     },
     "execution_count": 4,
     "metadata": {},
     "output_type": "execute_result"
    }
   ],
   "source": [
    "dataframe.dtypes"
   ]
  },
  {
   "cell_type": "markdown",
   "id": "8682018b",
   "metadata": {
    "papermill": {
     "duration": 0.011163,
     "end_time": "2023-08-13T11:32:56.040963",
     "exception": false,
     "start_time": "2023-08-13T11:32:56.029800",
     "status": "completed"
    },
    "tags": []
   },
   "source": [
    "Target Variable"
   ]
  },
  {
   "cell_type": "code",
   "execution_count": 5,
   "id": "05011104",
   "metadata": {
    "execution": {
     "iopub.execute_input": "2023-08-13T11:32:56.065587Z",
     "iopub.status.busy": "2023-08-13T11:32:56.065193Z",
     "iopub.status.idle": "2023-08-13T11:32:57.273475Z",
     "shell.execute_reply": "2023-08-13T11:32:57.271994Z"
    },
    "papermill": {
     "duration": 1.223675,
     "end_time": "2023-08-13T11:32:57.275967",
     "exception": false,
     "start_time": "2023-08-13T11:32:56.052292",
     "status": "completed"
    },
    "tags": []
   },
   "outputs": [
    {
     "data": {
      "image/png": "[encoded data removed]",
      "text/plain": [
       "<Figure size 800x600 with 1 Axes>"
      ]
     },
     "metadata": {},
     "output_type": "display_data"
    }
   ],
   "source": [
    "import seaborn as sns\n",
    "import matplotlib.pyplot as plt\n",
    "plt.figure(figsize=(8, 6))\n",
    "sns.histplot(dataframe[\"sentiment\"], kde=True)\n",
    "plt.title(\"Distribution of Target Variable\")\n",
    "plt.show()"
   ]
  },
  {
   "cell_type": "markdown",
   "id": "feca8076",
   "metadata": {
    "papermill": {
     "duration": 0.011443,
     "end_time": "2023-08-13T11:32:57.299481",
     "exception": false,
     "start_time": "2023-08-13T11:32:57.288038",
     "status": "completed"
    },
    "tags": []
   },
   "source": [
    "Feature Distribution"
   ]
  },
  {
   "cell_type": "code",
   "execution_count": 6,
   "id": "321c46dd",
   "metadata": {
    "execution": {
     "iopub.execute_input": "2023-08-13T11:32:57.324869Z",
     "iopub.status.busy": "2023-08-13T11:32:57.324515Z",
     "iopub.status.idle": "2023-08-13T11:32:58.373370Z",
     "shell.execute_reply": "2023-08-13T11:32:58.372399Z"
    },
    "papermill": {
     "duration": 1.064284,
     "end_time": "2023-08-13T11:32:58.375494",
     "exception": false,
     "start_time": "2023-08-13T11:32:57.311210",
     "status": "completed"
    },
    "tags": []
   },
   "outputs": [
    {
     "data": {
      "image/png": "[encoded data removed]",
      "text/plain": [
       "<Figure size 1200x600 with 1 Axes>"
      ]
     },
     "metadata": {},
     "output_type": "display_data"
    },
    {
     "data": {
      "image/png": "[encoded data removed]",
      "text/plain": [
       "<Figure size 1200x600 with 1 Axes>"
      ]
     },
     "metadata": {},
     "output_type": "display_data"
    }
   ],
   "source": [
    "plt.figure(figsize=(12, 6))\n",
    "sns.histplot(dataframe[\"audienceScore\"], kde=True)\n",
    "plt.title(\"Distribution of Numerical Feature\")\n",
    "plt.show()\n",
    "\n",
    "plt.figure(figsize=(12, 6))\n",
    "sns.boxplot(data=dataframe[\"audienceScore\"])\n",
    "plt.title(\"Box Plot of Numerical Feature\")\n",
    "plt.show()\n"
   ]
  },
  {
   "cell_type": "markdown",
   "id": "26e6533a",
   "metadata": {
    "papermill": {
     "duration": 0.015093,
     "end_time": "2023-08-13T11:32:58.403088",
     "exception": false,
     "start_time": "2023-08-13T11:32:58.387995",
     "status": "completed"
    },
    "tags": []
   },
   "source": [
    "Correlation Heatmap"
   ]
  },
  {
   "cell_type": "code",
   "execution_count": 7,
   "id": "084f2965",
   "metadata": {
    "execution": {
     "iopub.execute_input": "2023-08-13T11:32:58.437893Z",
     "iopub.status.busy": "2023-08-13T11:32:58.436736Z",
     "iopub.status.idle": "2023-08-13T11:32:58.721940Z",
     "shell.execute_reply": "2023-08-13T11:32:58.720695Z"
    },
    "papermill": {
     "duration": 0.305218,
     "end_time": "2023-08-13T11:32:58.723933",
     "exception": false,
     "start_time": "2023-08-13T11:32:58.418715",
     "status": "completed"
    },
    "tags": []
   },
   "outputs": [
    {
     "data": {
      "image/png": "[encoded data removed]",
      "text/plain": [
       "<Figure size 1000x800 with 2 Axes>"
      ]
     },
     "metadata": {},
     "output_type": "display_data"
    }
   ],
   "source": [
    "correlation_matrix = dataframe.corr()\n",
    "plt.figure(figsize=(10, 8))\n",
    "sns.heatmap(correlation_matrix, annot=True, cmap=\"coolwarm\")\n",
    "plt.title(\"Correlation Heatmap\")\n",
    "plt.show()"
   ]
  },
  {
   "cell_type": "markdown",
   "id": "a6186e68",
   "metadata": {
    "papermill": {
     "duration": 0.012731,
     "end_time": "2023-08-13T11:32:58.754507",
     "exception": false,
     "start_time": "2023-08-13T11:32:58.741776",
     "status": "completed"
    },
    "tags": []
   },
   "source": [
    "Feature Relationship"
   ]
  },
  {
   "cell_type": "code",
   "execution_count": 8,
   "id": "6a05b978",
   "metadata": {
    "execution": {
     "iopub.execute_input": "2023-08-13T11:32:58.786922Z",
     "iopub.status.busy": "2023-08-13T11:32:58.786569Z",
     "iopub.status.idle": "2023-08-13T11:33:01.168569Z",
     "shell.execute_reply": "2023-08-13T11:33:01.167818Z"
    },
    "papermill": {
     "duration": 2.400068,
     "end_time": "2023-08-13T11:33:01.170810",
     "exception": false,
     "start_time": "2023-08-13T11:32:58.770742",
     "status": "completed"
    },
    "tags": []
   },
   "outputs": [
    {
     "data": {
      "image/png": "[encoded data removed]",
      "text/plain": [
       "<Figure size 500x500 with 6 Axes>"
      ]
     },
     "metadata": {},
     "output_type": "display_data"
    }
   ],
   "source": [
    "sns.pairplot(dataframe[[\"audienceScore\", \"runtimeMinutes\", \"sentiment\"]])\n",
    "plt.show()"
   ]
  },
  {
   "cell_type": "markdown",
   "id": "e7379617",
   "metadata": {
    "papermill": {
     "duration": 0.013541,
     "end_time": "2023-08-13T11:33:01.198455",
     "exception": false,
     "start_time": "2023-08-13T11:33:01.184914",
     "status": "completed"
    },
    "tags": []
   },
   "source": [
    "Missing Values "
   ]
  },
  {
   "cell_type": "code",
   "execution_count": 9,
   "id": "7f9e4ecd",
   "metadata": {
    "execution": {
     "iopub.execute_input": "2023-08-13T11:33:01.228472Z",
     "iopub.status.busy": "2023-08-13T11:33:01.228062Z",
     "iopub.status.idle": "2023-08-13T11:33:04.076423Z",
     "shell.execute_reply": "2023-08-13T11:33:04.075027Z"
    },
    "papermill": {
     "duration": 2.86673,
     "end_time": "2023-08-13T11:33:04.079115",
     "exception": false,
     "start_time": "2023-08-13T11:33:01.212385",
     "status": "completed"
    },
    "tags": []
   },
   "outputs": [
    {
     "data": {
      "image/png": "[encoded data removed]",
      "text/plain": [
       "<Figure size 800x600 with 2 Axes>"
      ]
     },
     "metadata": {},
     "output_type": "display_data"
    }
   ],
   "source": [
    "plt.figure(figsize=(8, 6))\n",
    "sns.heatmap(dataframe.isnull(), cmap=\"viridis\")\n",
    "plt.title(\"Missing Values Heatmap\")\n",
    "plt.show()"
   ]
  },
  {
   "cell_type": "markdown",
   "id": "8ea415bd",
   "metadata": {
    "papermill": {
     "duration": 0.014686,
     "end_time": "2023-08-13T11:33:04.108906",
     "exception": false,
     "start_time": "2023-08-13T11:33:04.094220",
     "status": "completed"
    },
    "tags": []
   },
   "source": [
    "\n",
    "\n",
    "# preprocessing of merged_train data"
   ]
  },
  {
   "cell_type": "code",
   "execution_count": 10,
   "id": "6ee56267",
   "metadata": {
    "execution": {
     "iopub.execute_input": "2023-08-13T11:33:04.141691Z",
     "iopub.status.busy": "2023-08-13T11:33:04.141279Z",
     "iopub.status.idle": "2023-08-13T11:33:04.505090Z",
     "shell.execute_reply": "2023-08-13T11:33:04.503424Z"
    },
    "papermill": {
     "duration": 0.3828,
     "end_time": "2023-08-13T11:33:04.507545",
     "exception": false,
     "start_time": "2023-08-13T11:33:04.124745",
     "status": "completed"
    },
    "tags": []
   },
   "outputs": [
    {
     "name": "stdout",
     "output_type": "stream",
     "text": [
      "                     Data Type  Null Values\n",
      "movieid                 object            0\n",
      "reviewerName            object            0\n",
      "isFrequentReviewer        bool            0\n",
      "reviewText              object         6447\n",
      "sentiment               object            0\n",
      "title                   object            0\n",
      "audienceScore          float64        13248\n",
      "rating                  object        63724\n",
      "ratingContents          object        63724\n",
      "releaseDateTheaters     object        35834\n",
      "releaseDateStreaming    object        16185\n",
      "runtimeMinutes         float64         3376\n",
      "genre                   object         2438\n",
      "originalLanguage        object         3290\n",
      "director                object            0\n",
      "boxOffice               object        52776\n",
      "distributor             object        40663\n",
      "soundType               object        85367\n"
     ]
    }
   ],
   "source": [
    "data_types = dataframe.dtypes\n",
    "null_values = dataframe.isnull().sum()\n",
    "table_data = pd.DataFrame({'Data Type': data_types, 'Null Values': null_values})\n",
    "print(table_data)"
   ]
  },
  {
   "cell_type": "code",
   "execution_count": 11,
   "id": "79c55dc9",
   "metadata": {
    "execution": {
     "iopub.execute_input": "2023-08-13T11:33:04.539073Z",
     "iopub.status.busy": "2023-08-13T11:33:04.538713Z",
     "iopub.status.idle": "2023-08-13T11:33:04.630686Z",
     "shell.execute_reply": "2023-08-13T11:33:04.628924Z"
    },
    "papermill": {
     "duration": 0.111055,
     "end_time": "2023-08-13T11:33:04.633485",
     "exception": false,
     "start_time": "2023-08-13T11:33:04.522430",
     "status": "completed"
    },
    "tags": []
   },
   "outputs": [
    {
     "name": "stdout",
     "output_type": "stream",
     "text": [
      "103072    2025.0\n",
      "80084     2025.0\n",
      "87499     2025.0\n",
      "33337     2025.0\n",
      "13818     2025.0\n",
      "           ...  \n",
      "162738       NaN\n",
      "162740       NaN\n",
      "162747       NaN\n",
      "162753       NaN\n",
      "162755       NaN\n",
      "Name: releaseDateTheaters, Length: 162758, dtype: float64\n",
      "2018.0    7040\n",
      "2019.0    6873\n",
      "2016.0    6441\n",
      "2017.0    6213\n",
      "2021.0    5848\n",
      "          ... \n",
      "2024.0      10\n",
      "1916.0       6\n",
      "1919.0       3\n",
      "1918.0       1\n",
      "1920.0       1\n",
      "Name: releaseDateTheaters, Length: 110, dtype: int64\n"
     ]
    }
   ],
   "source": [
    "dataframe['releaseDateTheaters'] = pd.to_datetime(dataframe['releaseDateTheaters'], errors='coerce')\n",
    "print(dataframe['releaseDateTheaters'].dt.year.sort_values(ascending=False))\n",
    "release_year_counts = dataframe['releaseDateTheaters'].dt.year.value_counts().sort_values(ascending=False)\n",
    "print(release_year_counts)"
   ]
  },
  {
   "cell_type": "code",
   "execution_count": 12,
   "id": "c4d75611",
   "metadata": {
    "execution": {
     "iopub.execute_input": "2023-08-13T11:33:04.669125Z",
     "iopub.status.busy": "2023-08-13T11:33:04.668725Z",
     "iopub.status.idle": "2023-08-13T11:33:04.735829Z",
     "shell.execute_reply": "2023-08-13T11:33:04.734464Z"
    },
    "papermill": {
     "duration": 0.087314,
     "end_time": "2023-08-13T11:33:04.737946",
     "exception": false,
     "start_time": "2023-08-13T11:33:04.650632",
     "status": "completed"
    },
    "tags": []
   },
   "outputs": [
    {
     "name": "stdout",
     "output_type": "stream",
     "text": [
      "309       &#91;O&#93;ne gets the sense that this movie w...\n",
      "362       The exploration is deep&#44; very deep&#44; so...\n",
      "569       Johnstone&#8217;s film revels in the humor of ...\n",
      "617       Despite the chaos of the mixed genres and the ...\n",
      "867       Although “When You Finish Saving the World” is...\n",
      "                                ...                        \n",
      "161804    The film succeeds mightily... by virtue of lea...\n",
      "161896    An overcooked script... keeps Creed III from l...\n",
      "161950    &apos;A Thousand and One&apos; is a narrative ...\n",
      "162390    Few series of this type have maintained this l...\n",
      "162752    Spectacular action set-pieces, clever writing ...\n",
      "Name: reviewText, Length: 1382, dtype: object\n"
     ]
    }
   ],
   "source": [
    "filtered_reviews = dataframe[dataframe['releaseDateTheaters'].dt.year > 2022]['reviewText']\n",
    "print(filtered_reviews)\n",
    "dataframe = dataframe[dataframe['releaseDateTheaters'].dt.year <= 2022]"
   ]
  },
  {
   "cell_type": "code",
   "execution_count": 13,
   "id": "e6d776bf",
   "metadata": {
    "execution": {
     "iopub.execute_input": "2023-08-13T11:33:04.769210Z",
     "iopub.status.busy": "2023-08-13T11:33:04.768835Z",
     "iopub.status.idle": "2023-08-13T11:33:04.811943Z",
     "shell.execute_reply": "2023-08-13T11:33:04.810355Z"
    },
    "papermill": {
     "duration": 0.062516,
     "end_time": "2023-08-13T11:33:04.815368",
     "exception": false,
     "start_time": "2023-08-13T11:33:04.752852",
     "status": "completed"
    },
    "tags": []
   },
   "outputs": [
    {
     "name": "stdout",
     "output_type": "stream",
     "text": [
      "0        2022\n",
      "49612    2022\n",
      "95113    2022\n",
      "95092    2022\n",
      "95070    2022\n",
      "         ... \n",
      "37034    1915\n",
      "41166    1915\n",
      "66907    1915\n",
      "81248    1915\n",
      "80369    1915\n",
      "Name: releaseDateTheaters, Length: 125542, dtype: int64\n",
      "2018    7040\n",
      "2019    6873\n",
      "2016    6441\n",
      "2017    6213\n",
      "2021    5848\n",
      "        ... \n",
      "1922      13\n",
      "1916       6\n",
      "1919       3\n",
      "1918       1\n",
      "1920       1\n",
      "Name: releaseDateTheaters, Length: 107, dtype: int64\n"
     ]
    }
   ],
   "source": [
    "dataframe['releaseDateTheaters'] = pd.to_datetime(dataframe['releaseDateTheaters'], errors='coerce')\n",
    "print(dataframe['releaseDateTheaters'].dt.year.sort_values(ascending=False))\n",
    "release_year_counts = dataframe['releaseDateTheaters'].dt.year.value_counts().sort_values(ascending=False)\n",
    "print(release_year_counts)"
   ]
  },
  {
   "cell_type": "markdown",
   "id": "d7720859",
   "metadata": {
    "papermill": {
     "duration": 0.014472,
     "end_time": "2023-08-13T11:33:04.845037",
     "exception": false,
     "start_time": "2023-08-13T11:33:04.830565",
     "status": "completed"
    },
    "tags": []
   },
   "source": [
    "# feature selection"
   ]
  },
  {
   "cell_type": "code",
   "execution_count": 14,
   "id": "373b66da",
   "metadata": {
    "execution": {
     "iopub.execute_input": "2023-08-13T11:33:04.877092Z",
     "iopub.status.busy": "2023-08-13T11:33:04.876515Z",
     "iopub.status.idle": "2023-08-13T11:33:04.895553Z",
     "shell.execute_reply": "2023-08-13T11:33:04.893695Z"
    },
    "papermill": {
     "duration": 0.038051,
     "end_time": "2023-08-13T11:33:04.897919",
     "exception": false,
     "start_time": "2023-08-13T11:33:04.859868",
     "status": "completed"
    },
    "tags": []
   },
   "outputs": [],
   "source": [
    "column_drop = ['title','isFrequentReviewer','genre','director','rating','reviewerName','originalLanguage','runtimeMinutes','ratingContents','distributor','boxOffice','releaseDateTheaters','releaseDateStreaming','soundType']\n",
    "dataframe = dataframe.drop(columns=column_drop)"
   ]
  },
  {
   "cell_type": "markdown",
   "id": "fb966283",
   "metadata": {
    "papermill": {
     "duration": 0.014243,
     "end_time": "2023-08-13T11:33:04.927697",
     "exception": false,
     "start_time": "2023-08-13T11:33:04.913454",
     "status": "completed"
    },
    "tags": []
   },
   "source": [
    "# handle missing values"
   ]
  },
  {
   "cell_type": "code",
   "execution_count": 15,
   "id": "c8d104db",
   "metadata": {
    "execution": {
     "iopub.execute_input": "2023-08-13T11:33:04.958851Z",
     "iopub.status.busy": "2023-08-13T11:33:04.958251Z",
     "iopub.status.idle": "2023-08-13T11:33:05.007096Z",
     "shell.execute_reply": "2023-08-13T11:33:05.006025Z"
    },
    "papermill": {
     "duration": 0.067059,
     "end_time": "2023-08-13T11:33:05.009357",
     "exception": false,
     "start_time": "2023-08-13T11:33:04.942298",
     "status": "completed"
    },
    "tags": []
   },
   "outputs": [],
   "source": [
    "dataframe[\"reviewText\"].fillna(\"\", inplace=True)\n",
    "dataframe.dropna(subset=['sentiment'], inplace=True) "
   ]
  },
  {
   "cell_type": "code",
   "execution_count": 16,
   "id": "2074eac0",
   "metadata": {
    "execution": {
     "iopub.execute_input": "2023-08-13T11:33:05.042760Z",
     "iopub.status.busy": "2023-08-13T11:33:05.042186Z",
     "iopub.status.idle": "2023-08-13T11:33:05.064022Z",
     "shell.execute_reply": "2023-08-13T11:33:05.063118Z"
    },
    "papermill": {
     "duration": 0.040404,
     "end_time": "2023-08-13T11:33:05.065788",
     "exception": false,
     "start_time": "2023-08-13T11:33:05.025384",
     "status": "completed"
    },
    "tags": []
   },
   "outputs": [
    {
     "name": "stdout",
     "output_type": "stream",
     "text": [
      "mode:  0    86.0\n",
      "Name: audienceScore, dtype: float64\n"
     ]
    },
    {
     "data": {
      "text/html": [
       "<div>\n",
       "<style scoped>\n",
       "    .dataframe tbody tr th:only-of-type {\n",
       "        vertical-align: middle;\n",
       "    }\n",
       "\n",
       "    .dataframe tbody tr th {\n",
       "        vertical-align: top;\n",
       "    }\n",
       "\n",
       "    .dataframe thead th {\n",
       "        text-align: right;\n",
       "    }\n",
       "</style>\n",
       "<table border=\"1\" class=\"dataframe\">\n",
       "  <thead>\n",
       "    <tr style=\"text-align: right;\">\n",
       "      <th></th>\n",
       "      <th>audienceScore</th>\n",
       "    </tr>\n",
       "  </thead>\n",
       "  <tbody>\n",
       "    <tr>\n",
       "      <th>count</th>\n",
       "      <td>123975.000000</td>\n",
       "    </tr>\n",
       "    <tr>\n",
       "      <th>mean</th>\n",
       "      <td>66.364920</td>\n",
       "    </tr>\n",
       "    <tr>\n",
       "      <th>std</th>\n",
       "      <td>19.220236</td>\n",
       "    </tr>\n",
       "    <tr>\n",
       "      <th>min</th>\n",
       "      <td>0.000000</td>\n",
       "    </tr>\n",
       "    <tr>\n",
       "      <th>25%</th>\n",
       "      <td>52.000000</td>\n",
       "    </tr>\n",
       "    <tr>\n",
       "      <th>50%</th>\n",
       "      <td>69.000000</td>\n",
       "    </tr>\n",
       "    <tr>\n",
       "      <th>75%</th>\n",
       "      <td>82.000000</td>\n",
       "    </tr>\n",
       "    <tr>\n",
       "      <th>max</th>\n",
       "      <td>100.000000</td>\n",
       "    </tr>\n",
       "  </tbody>\n",
       "</table>\n",
       "</div>"
      ],
      "text/plain": [
       "       audienceScore\n",
       "count  123975.000000\n",
       "mean       66.364920\n",
       "std        19.220236\n",
       "min         0.000000\n",
       "25%        52.000000\n",
       "50%        69.000000\n",
       "75%        82.000000\n",
       "max       100.000000"
      ]
     },
     "execution_count": 16,
     "metadata": {},
     "output_type": "execute_result"
    }
   ],
   "source": [
    "print('mode: ',dataframe['audienceScore'].mode())\n",
    "(dataframe.describe())"
   ]
  },
  {
   "cell_type": "markdown",
   "id": "da38dae1",
   "metadata": {
    "papermill": {
     "duration": 0.01534,
     "end_time": "2023-08-13T11:33:05.096794",
     "exception": false,
     "start_time": "2023-08-13T11:33:05.081454",
     "status": "completed"
    },
    "tags": []
   },
   "source": [
    "# imputation"
   ]
  },
  {
   "cell_type": "code",
   "execution_count": 17,
   "id": "77bc39e7",
   "metadata": {
    "execution": {
     "iopub.execute_input": "2023-08-13T11:33:05.130807Z",
     "iopub.status.busy": "2023-08-13T11:33:05.130233Z",
     "iopub.status.idle": "2023-08-13T11:33:05.411418Z",
     "shell.execute_reply": "2023-08-13T11:33:05.410459Z"
    },
    "papermill": {
     "duration": 0.300617,
     "end_time": "2023-08-13T11:33:05.413882",
     "exception": false,
     "start_time": "2023-08-13T11:33:05.113265",
     "status": "completed"
    },
    "tags": []
   },
   "outputs": [
    {
     "name": "stdout",
     "output_type": "stream",
     "text": [
      "done\n"
     ]
    },
    {
     "data": {
      "text/html": [
       "<div>\n",
       "<style scoped>\n",
       "    .dataframe tbody tr th:only-of-type {\n",
       "        vertical-align: middle;\n",
       "    }\n",
       "\n",
       "    .dataframe tbody tr th {\n",
       "        vertical-align: top;\n",
       "    }\n",
       "\n",
       "    .dataframe thead th {\n",
       "        text-align: right;\n",
       "    }\n",
       "</style>\n",
       "<table border=\"1\" class=\"dataframe\">\n",
       "  <thead>\n",
       "    <tr style=\"text-align: right;\">\n",
       "      <th></th>\n",
       "      <th>audienceScore</th>\n",
       "      <th>audienceScore_imputed</th>\n",
       "    </tr>\n",
       "  </thead>\n",
       "  <tbody>\n",
       "    <tr>\n",
       "      <th>count</th>\n",
       "      <td>123975.000000</td>\n",
       "      <td>125542.000000</td>\n",
       "    </tr>\n",
       "    <tr>\n",
       "      <th>mean</th>\n",
       "      <td>66.364920</td>\n",
       "      <td>66.610003</td>\n",
       "    </tr>\n",
       "    <tr>\n",
       "      <th>std</th>\n",
       "      <td>19.220236</td>\n",
       "      <td>19.223907</td>\n",
       "    </tr>\n",
       "    <tr>\n",
       "      <th>min</th>\n",
       "      <td>0.000000</td>\n",
       "      <td>0.000000</td>\n",
       "    </tr>\n",
       "    <tr>\n",
       "      <th>25%</th>\n",
       "      <td>52.000000</td>\n",
       "      <td>52.000000</td>\n",
       "    </tr>\n",
       "    <tr>\n",
       "      <th>50%</th>\n",
       "      <td>69.000000</td>\n",
       "      <td>70.000000</td>\n",
       "    </tr>\n",
       "    <tr>\n",
       "      <th>75%</th>\n",
       "      <td>82.000000</td>\n",
       "      <td>83.000000</td>\n",
       "    </tr>\n",
       "    <tr>\n",
       "      <th>max</th>\n",
       "      <td>100.000000</td>\n",
       "      <td>100.000000</td>\n",
       "    </tr>\n",
       "  </tbody>\n",
       "</table>\n",
       "</div>"
      ],
      "text/plain": [
       "       audienceScore  audienceScore_imputed\n",
       "count  123975.000000          125542.000000\n",
       "mean       66.364920              66.610003\n",
       "std        19.220236              19.223907\n",
       "min         0.000000               0.000000\n",
       "25%        52.000000              52.000000\n",
       "50%        69.000000              70.000000\n",
       "75%        82.000000              83.000000\n",
       "max       100.000000             100.000000"
      ]
     },
     "execution_count": 17,
     "metadata": {},
     "output_type": "execute_result"
    }
   ],
   "source": [
    "from sklearn.impute import SimpleImputer\n",
    "dataframe['audienceScore'] = dataframe['audienceScore'].astype(float)\n",
    "imputer = SimpleImputer(strategy='most_frequent')\n",
    "dataframe['audienceScore_imputed'] = imputer.fit_transform(dataframe[['audienceScore']])\n",
    "print('done')\n",
    "dataframe.describe()"
   ]
  },
  {
   "cell_type": "code",
   "execution_count": 18,
   "id": "df5b5dc9",
   "metadata": {
    "execution": {
     "iopub.execute_input": "2023-08-13T11:33:05.449875Z",
     "iopub.status.busy": "2023-08-13T11:33:05.449315Z",
     "iopub.status.idle": "2023-08-13T11:33:05.462065Z",
     "shell.execute_reply": "2023-08-13T11:33:05.461041Z"
    },
    "papermill": {
     "duration": 0.034728,
     "end_time": "2023-08-13T11:33:05.464312",
     "exception": false,
     "start_time": "2023-08-13T11:33:05.429584",
     "status": "completed"
    },
    "tags": []
   },
   "outputs": [],
   "source": [
    "column_drop = ['audienceScore']\n",
    "dataframe = dataframe.drop(columns=column_drop)"
   ]
  },
  {
   "cell_type": "code",
   "execution_count": 19,
   "id": "ede385ff",
   "metadata": {
    "execution": {
     "iopub.execute_input": "2023-08-13T11:33:05.498912Z",
     "iopub.status.busy": "2023-08-13T11:33:05.498511Z",
     "iopub.status.idle": "2023-08-13T11:33:05.570823Z",
     "shell.execute_reply": "2023-08-13T11:33:05.569122Z"
    },
    "papermill": {
     "duration": 0.093487,
     "end_time": "2023-08-13T11:33:05.573248",
     "exception": false,
     "start_time": "2023-08-13T11:33:05.479761",
     "status": "completed"
    },
    "tags": []
   },
   "outputs": [
    {
     "name": "stdout",
     "output_type": "stream",
     "text": [
      "                      Data Type  Null Values\n",
      "movieid                  object            0\n",
      "reviewText               object            0\n",
      "sentiment                object            0\n",
      "audienceScore_imputed   float64            0\n"
     ]
    }
   ],
   "source": [
    "data_types = dataframe.dtypes\n",
    "null_values = dataframe.isnull().sum()\n",
    "table_data = pd.DataFrame({'Data Type': data_types, 'Null Values': null_values})\n",
    "print(table_data)"
   ]
  },
  {
   "cell_type": "code",
   "execution_count": 20,
   "id": "4cf40ec0",
   "metadata": {
    "execution": {
     "iopub.execute_input": "2023-08-13T11:33:05.607567Z",
     "iopub.status.busy": "2023-08-13T11:33:05.606916Z",
     "iopub.status.idle": "2023-08-13T11:33:06.124313Z",
     "shell.execute_reply": "2023-08-13T11:33:06.123076Z"
    },
    "papermill": {
     "duration": 0.538003,
     "end_time": "2023-08-13T11:33:06.127037",
     "exception": false,
     "start_time": "2023-08-13T11:33:05.589034",
     "status": "completed"
    },
    "tags": []
   },
   "outputs": [],
   "source": [
    "dataframe.to_csv('dropped_dataframe.csv', index = False)"
   ]
  },
  {
   "cell_type": "markdown",
   "id": "64f739d1",
   "metadata": {
    "papermill": {
     "duration": 0.017127,
     "end_time": "2023-08-13T11:33:06.159785",
     "exception": false,
     "start_time": "2023-08-13T11:33:06.142658",
     "status": "completed"
    },
    "tags": []
   },
   "source": [
    "# preprocessing for merged_test data"
   ]
  },
  {
   "cell_type": "code",
   "execution_count": 21,
   "id": "c5d4660f",
   "metadata": {
    "execution": {
     "iopub.execute_input": "2023-08-13T11:33:06.193252Z",
     "iopub.status.busy": "2023-08-13T11:33:06.192420Z",
     "iopub.status.idle": "2023-08-13T11:33:06.320859Z",
     "shell.execute_reply": "2023-08-13T11:33:06.319624Z"
    },
    "papermill": {
     "duration": 0.147696,
     "end_time": "2023-08-13T11:33:06.323145",
     "exception": false,
     "start_time": "2023-08-13T11:33:06.175449",
     "status": "completed"
    },
    "tags": []
   },
   "outputs": [
    {
     "name": "stdout",
     "output_type": "stream",
     "text": [
      "merged test\n",
      "                     Data Type  Null Values\n",
      "movieid                 object            0\n",
      "reviewerName            object            0\n",
      "isTopCritic               bool            0\n",
      "reviewText              object         2510\n",
      "title                   object            0\n",
      "audienceScore          float64         4931\n",
      "rating                  object        24296\n",
      "ratingContents          object        24296\n",
      "releaseDateTheaters     object        13702\n",
      "releaseDateStreaming    object         5974\n",
      "runtimeMinutes         float64         1262\n",
      "genre                   object          920\n",
      "originalLanguage        object         1238\n",
      "director                object            0\n",
      "boxOffice               object        19995\n",
      "distributor             object        15596\n",
      "soundType               object        30626\n"
     ]
    }
   ],
   "source": [
    "print('merged test')\n",
    "data_types = merged_test.dtypes\n",
    "null_values = merged_test.isnull().sum()\n",
    "table_data = pd.DataFrame({'Data Type': data_types, 'Null Values': null_values})\n",
    "print(table_data)\n"
   ]
  },
  {
   "cell_type": "markdown",
   "id": "b05f9eaf",
   "metadata": {
    "papermill": {
     "duration": 0.015836,
     "end_time": "2023-08-13T11:33:06.355093",
     "exception": false,
     "start_time": "2023-08-13T11:33:06.339257",
     "status": "completed"
    },
    "tags": []
   },
   "source": [
    "# feature selection"
   ]
  },
  {
   "cell_type": "code",
   "execution_count": 22,
   "id": "c4a06d77",
   "metadata": {
    "execution": {
     "iopub.execute_input": "2023-08-13T11:33:06.389001Z",
     "iopub.status.busy": "2023-08-13T11:33:06.388308Z",
     "iopub.status.idle": "2023-08-13T11:33:06.409095Z",
     "shell.execute_reply": "2023-08-13T11:33:06.407960Z"
    },
    "papermill": {
     "duration": 0.040294,
     "end_time": "2023-08-13T11:33:06.411333",
     "exception": false,
     "start_time": "2023-08-13T11:33:06.371039",
     "status": "completed"
    },
    "tags": []
   },
   "outputs": [],
   "source": [
    "column_drop = ['title','rating','ratingContents','releaseDateTheaters','releaseDateStreaming','runtimeMinutes','genre','originalLanguage','director','boxOffice','distributor','soundType','reviewerName','isTopCritic']\n",
    "merged_test = merged_test.drop(columns=column_drop)\n",
    "merged_test['reviewText'].fillna(\"\", inplace=True)"
   ]
  },
  {
   "cell_type": "markdown",
   "id": "1b55064b",
   "metadata": {
    "papermill": {
     "duration": 0.015276,
     "end_time": "2023-08-13T11:33:06.442286",
     "exception": false,
     "start_time": "2023-08-13T11:33:06.427010",
     "status": "completed"
    },
    "tags": []
   },
   "source": [
    "# handle missing values "
   ]
  },
  {
   "cell_type": "code",
   "execution_count": 23,
   "id": "05f4204e",
   "metadata": {
    "execution": {
     "iopub.execute_input": "2023-08-13T11:33:06.475944Z",
     "iopub.status.busy": "2023-08-13T11:33:06.475381Z",
     "iopub.status.idle": "2023-08-13T11:33:06.492120Z",
     "shell.execute_reply": "2023-08-13T11:33:06.491209Z"
    },
    "papermill": {
     "duration": 0.036027,
     "end_time": "2023-08-13T11:33:06.494084",
     "exception": false,
     "start_time": "2023-08-13T11:33:06.458057",
     "status": "completed"
    },
    "tags": []
   },
   "outputs": [
    {
     "name": "stdout",
     "output_type": "stream",
     "text": [
      "mode:  0    86.0\n",
      "Name: audienceScore, dtype: float64\n"
     ]
    },
    {
     "data": {
      "text/html": [
       "<div>\n",
       "<style scoped>\n",
       "    .dataframe tbody tr th:only-of-type {\n",
       "        vertical-align: middle;\n",
       "    }\n",
       "\n",
       "    .dataframe tbody tr th {\n",
       "        vertical-align: top;\n",
       "    }\n",
       "\n",
       "    .dataframe thead th {\n",
       "        text-align: right;\n",
       "    }\n",
       "</style>\n",
       "<table border=\"1\" class=\"dataframe\">\n",
       "  <thead>\n",
       "    <tr style=\"text-align: right;\">\n",
       "      <th></th>\n",
       "      <th>audienceScore</th>\n",
       "    </tr>\n",
       "  </thead>\n",
       "  <tbody>\n",
       "    <tr>\n",
       "      <th>count</th>\n",
       "      <td>50384.000000</td>\n",
       "    </tr>\n",
       "    <tr>\n",
       "      <th>mean</th>\n",
       "      <td>65.000179</td>\n",
       "    </tr>\n",
       "    <tr>\n",
       "      <th>std</th>\n",
       "      <td>20.108764</td>\n",
       "    </tr>\n",
       "    <tr>\n",
       "      <th>min</th>\n",
       "      <td>0.000000</td>\n",
       "    </tr>\n",
       "    <tr>\n",
       "      <th>25%</th>\n",
       "      <td>50.000000</td>\n",
       "    </tr>\n",
       "    <tr>\n",
       "      <th>50%</th>\n",
       "      <td>68.000000</td>\n",
       "    </tr>\n",
       "    <tr>\n",
       "      <th>75%</th>\n",
       "      <td>82.000000</td>\n",
       "    </tr>\n",
       "    <tr>\n",
       "      <th>max</th>\n",
       "      <td>100.000000</td>\n",
       "    </tr>\n",
       "  </tbody>\n",
       "</table>\n",
       "</div>"
      ],
      "text/plain": [
       "       audienceScore\n",
       "count   50384.000000\n",
       "mean       65.000179\n",
       "std        20.108764\n",
       "min         0.000000\n",
       "25%        50.000000\n",
       "50%        68.000000\n",
       "75%        82.000000\n",
       "max       100.000000"
      ]
     },
     "execution_count": 23,
     "metadata": {},
     "output_type": "execute_result"
    }
   ],
   "source": [
    "print('mode: ',merged_test['audienceScore'].mode())\n",
    "(merged_test.describe())"
   ]
  },
  {
   "cell_type": "markdown",
   "id": "b36a6571",
   "metadata": {
    "papermill": {
     "duration": 0.015832,
     "end_time": "2023-08-13T11:33:06.525786",
     "exception": false,
     "start_time": "2023-08-13T11:33:06.509954",
     "status": "completed"
    },
    "tags": []
   },
   "source": [
    "# imputation"
   ]
  },
  {
   "cell_type": "code",
   "execution_count": 24,
   "id": "550796d8",
   "metadata": {
    "execution": {
     "iopub.execute_input": "2023-08-13T11:33:06.567470Z",
     "iopub.status.busy": "2023-08-13T11:33:06.566810Z",
     "iopub.status.idle": "2023-08-13T11:33:06.603956Z",
     "shell.execute_reply": "2023-08-13T11:33:06.602990Z"
    },
    "papermill": {
     "duration": 0.061508,
     "end_time": "2023-08-13T11:33:06.606316",
     "exception": false,
     "start_time": "2023-08-13T11:33:06.544808",
     "status": "completed"
    },
    "tags": []
   },
   "outputs": [
    {
     "name": "stdout",
     "output_type": "stream",
     "text": [
      "done\n",
      "\n"
     ]
    },
    {
     "data": {
      "text/html": [
       "<div>\n",
       "<style scoped>\n",
       "    .dataframe tbody tr th:only-of-type {\n",
       "        vertical-align: middle;\n",
       "    }\n",
       "\n",
       "    .dataframe tbody tr th {\n",
       "        vertical-align: top;\n",
       "    }\n",
       "\n",
       "    .dataframe thead th {\n",
       "        text-align: right;\n",
       "    }\n",
       "</style>\n",
       "<table border=\"1\" class=\"dataframe\">\n",
       "  <thead>\n",
       "    <tr style=\"text-align: right;\">\n",
       "      <th></th>\n",
       "      <th>audienceScore_imputed</th>\n",
       "    </tr>\n",
       "  </thead>\n",
       "  <tbody>\n",
       "    <tr>\n",
       "      <th>count</th>\n",
       "      <td>125542.000000</td>\n",
       "    </tr>\n",
       "    <tr>\n",
       "      <th>mean</th>\n",
       "      <td>66.610003</td>\n",
       "    </tr>\n",
       "    <tr>\n",
       "      <th>std</th>\n",
       "      <td>19.223907</td>\n",
       "    </tr>\n",
       "    <tr>\n",
       "      <th>min</th>\n",
       "      <td>0.000000</td>\n",
       "    </tr>\n",
       "    <tr>\n",
       "      <th>25%</th>\n",
       "      <td>52.000000</td>\n",
       "    </tr>\n",
       "    <tr>\n",
       "      <th>50%</th>\n",
       "      <td>70.000000</td>\n",
       "    </tr>\n",
       "    <tr>\n",
       "      <th>75%</th>\n",
       "      <td>83.000000</td>\n",
       "    </tr>\n",
       "    <tr>\n",
       "      <th>max</th>\n",
       "      <td>100.000000</td>\n",
       "    </tr>\n",
       "  </tbody>\n",
       "</table>\n",
       "</div>"
      ],
      "text/plain": [
       "       audienceScore_imputed\n",
       "count          125542.000000\n",
       "mean               66.610003\n",
       "std                19.223907\n",
       "min                 0.000000\n",
       "25%                52.000000\n",
       "50%                70.000000\n",
       "75%                83.000000\n",
       "max               100.000000"
      ]
     },
     "execution_count": 24,
     "metadata": {},
     "output_type": "execute_result"
    }
   ],
   "source": [
    "from sklearn.impute import SimpleImputer\n",
    "merged_test['audienceScore'] = merged_test['audienceScore'].astype(float)\n",
    "imputer = SimpleImputer(strategy='most_frequent')\n",
    "merged_test['audienceScore_imputed'] = imputer.fit_transform(merged_test[['audienceScore']])\n",
    "print('done\\n')\n",
    "\n",
    "dataframe.describe()"
   ]
  },
  {
   "cell_type": "code",
   "execution_count": 25,
   "id": "b650cd0b",
   "metadata": {
    "execution": {
     "iopub.execute_input": "2023-08-13T11:33:06.641071Z",
     "iopub.status.busy": "2023-08-13T11:33:06.640673Z",
     "iopub.status.idle": "2023-08-13T11:33:06.648224Z",
     "shell.execute_reply": "2023-08-13T11:33:06.647599Z"
    },
    "papermill": {
     "duration": 0.027422,
     "end_time": "2023-08-13T11:33:06.650460",
     "exception": false,
     "start_time": "2023-08-13T11:33:06.623038",
     "status": "completed"
    },
    "tags": []
   },
   "outputs": [],
   "source": [
    "column_drop = ['audienceScore']\n",
    "merged_test = merged_test.drop(columns=column_drop)"
   ]
  },
  {
   "cell_type": "code",
   "execution_count": 26,
   "id": "85047303",
   "metadata": {
    "execution": {
     "iopub.execute_input": "2023-08-13T11:33:06.685909Z",
     "iopub.status.busy": "2023-08-13T11:33:06.685321Z",
     "iopub.status.idle": "2023-08-13T11:33:06.713633Z",
     "shell.execute_reply": "2023-08-13T11:33:06.711885Z"
    },
    "papermill": {
     "duration": 0.049316,
     "end_time": "2023-08-13T11:33:06.716025",
     "exception": false,
     "start_time": "2023-08-13T11:33:06.666709",
     "status": "completed"
    },
    "tags": []
   },
   "outputs": [
    {
     "name": "stdout",
     "output_type": "stream",
     "text": [
      "                      Data Type  Null Values\n",
      "movieid                  object            0\n",
      "reviewText               object            0\n",
      "audienceScore_imputed   float64            0\n"
     ]
    }
   ],
   "source": [
    "data_types = merged_test.dtypes\n",
    "null_values = merged_test.isnull().sum()\n",
    "table_data = pd.DataFrame({'Data Type': data_types, 'Null Values': null_values})\n",
    "print(table_data)"
   ]
  },
  {
   "cell_type": "markdown",
   "id": "a988bafb",
   "metadata": {
    "papermill": {
     "duration": 0.016698,
     "end_time": "2023-08-13T11:33:06.748672",
     "exception": false,
     "start_time": "2023-08-13T11:33:06.731974",
     "status": "completed"
    },
    "tags": []
   },
   "source": [
    "# data transformation\n"
   ]
  },
  {
   "cell_type": "code",
   "execution_count": 27,
   "id": "f5473fea",
   "metadata": {
    "execution": {
     "iopub.execute_input": "2023-08-13T11:33:06.783495Z",
     "iopub.status.busy": "2023-08-13T11:33:06.783138Z",
     "iopub.status.idle": "2023-08-13T11:33:10.310933Z",
     "shell.execute_reply": "2023-08-13T11:33:10.309722Z"
    },
    "papermill": {
     "duration": 3.547652,
     "end_time": "2023-08-13T11:33:10.312590",
     "exception": false,
     "start_time": "2023-08-13T11:33:06.764938",
     "status": "completed"
    },
    "tags": []
   },
   "outputs": [
    {
     "name": "stdout",
     "output_type": "stream",
     "text": [
      "done\n"
     ]
    }
   ],
   "source": [
    "# for train data\n",
    "from scipy import sparse\n",
    "datatrain = dataframe[['reviewText', 'audienceScore_imputed']].copy()\n",
    "tfidf_vectorizer = TfidfVectorizer(min_df=5)\n",
    "tfidf_matrix_train = tfidf_vectorizer.fit_transform(datatrain['reviewText'])\n",
    "X_text = tfidf_matrix_train\n",
    "X_numerical = datatrain[['audienceScore_imputed']].values\n",
    "X_train = sparse.hstack((X_text, X_numerical))\n",
    "y_train = dataframe['sentiment']\n",
    "\n",
    "# for test data\n",
    "datatest = merged_test[['reviewText']].copy()\n",
    "datatest.dropna(subset=['reviewText'], inplace=True)\n",
    "tfidf_matrix_test = tfidf_vectorizer.transform(datatest['reviewText'])\n",
    "X_text_test = tfidf_matrix_test\n",
    "X_numerical_test = merged_test[['audienceScore_imputed']].values  # Use the original 'audienceScore' column for test\n",
    "X_test = sparse.hstack((X_text_test, X_numerical_test))\n",
    "print('done')"
   ]
  },
  {
   "cell_type": "markdown",
   "id": "2d3ad6bd",
   "metadata": {
    "papermill": {
     "duration": 0.016332,
     "end_time": "2023-08-13T11:33:10.345893",
     "exception": false,
     "start_time": "2023-08-13T11:33:10.329561",
     "status": "completed"
    },
    "tags": []
   },
   "source": [
    "# splitting data into training and validating data"
   ]
  },
  {
   "cell_type": "code",
   "execution_count": 28,
   "id": "734f9d3b",
   "metadata": {
    "execution": {
     "iopub.execute_input": "2023-08-13T11:33:10.379653Z",
     "iopub.status.busy": "2023-08-13T11:33:10.379299Z",
     "iopub.status.idle": "2023-08-13T11:33:10.507924Z",
     "shell.execute_reply": "2023-08-13T11:33:10.506602Z"
    },
    "papermill": {
     "duration": 0.14821,
     "end_time": "2023-08-13T11:33:10.510191",
     "exception": false,
     "start_time": "2023-08-13T11:33:10.361981",
     "status": "completed"
    },
    "tags": []
   },
   "outputs": [
    {
     "name": "stdout",
     "output_type": "stream",
     "text": [
      "done\n"
     ]
    }
   ],
   "source": [
    "from sklearn.model_selection import train_test_split\n",
    "X_train_split, X_val, y_train_split, y_val = train_test_split(X_train, y_train, test_size=0.2, random_state=42)\n",
    "print('done')"
   ]
  },
  {
   "cell_type": "markdown",
   "id": "d20d2a23",
   "metadata": {
    "papermill": {
     "duration": 0.016421,
     "end_time": "2023-08-13T11:33:10.543024",
     "exception": false,
     "start_time": "2023-08-13T11:33:10.526603",
     "status": "completed"
    },
    "tags": []
   },
   "source": [
    "# **Models**"
   ]
  },
  {
   "cell_type": "markdown",
   "id": "0b352b1b",
   "metadata": {
    "papermill": {
     "duration": 0.015758,
     "end_time": "2023-08-13T11:33:10.574600",
     "exception": false,
     "start_time": "2023-08-13T11:33:10.558842",
     "status": "completed"
    },
    "tags": []
   },
   "source": [
    "**SGDClassifier**"
   ]
  },
  {
   "cell_type": "code",
   "execution_count": 29,
   "id": "b017ebfc",
   "metadata": {
    "execution": {
     "iopub.execute_input": "2023-08-13T11:33:10.608171Z",
     "iopub.status.busy": "2023-08-13T11:33:10.607804Z",
     "iopub.status.idle": "2023-08-13T11:33:36.339785Z",
     "shell.execute_reply": "2023-08-13T11:33:36.338333Z"
    },
    "papermill": {
     "duration": 25.75116,
     "end_time": "2023-08-13T11:33:36.341876",
     "exception": false,
     "start_time": "2023-08-13T11:33:10.590716",
     "status": "completed"
    },
    "tags": []
   },
   "outputs": [
    {
     "name": "stdout",
     "output_type": "stream",
     "text": [
      "SGD\n",
      "Training Accuracy: 0.7592524369480151\n",
      "Validation Accuracy: 0.7542315504400813\n",
      "done\n"
     ]
    }
   ],
   "source": [
    "print('SGD')\n",
    "from sklearn.linear_model import SGDClassifier\n",
    "\n",
    "sgd_classifier = SGDClassifier(alpha= 3.14891164795686e-05, loss= 'hinge', max_iter= 3000, penalty= 'l1', random_state= 42) # audScore+reText+HPT\n",
    "# sgd_classifier = SGDClassifier(alpha=4.207053950287935e-06, loss='modified_huber', max_iter=3000, penalty='elasticnet', random_state=42)\n",
    "# sgd_classifier = SGDClassifier(max_iter=1000, random_state=42)\n",
    "sgd_classifier.fit(X_train_split, y_train_split)\n",
    "sgd_train_accuracy = sgd_classifier.score(X_train_split, y_train_split)\n",
    "print(f\"Training Accuracy: {sgd_train_accuracy}\")\n",
    "sgd_val_accuracy = sgd_classifier.score(X_val, y_val)\n",
    "print(f\"Validation Accuracy: {sgd_val_accuracy}\")\n",
    "\n",
    "y_pred_test = sgd_classifier.predict(X_test)\n",
    "submission = pd.DataFrame(y_pred_test, columns=[\"sentiment\"])\n",
    "submission.to_csv(\"submission_sgd.csv\", index_label=\"id\")\n",
    "print('done')"
   ]
  },
  {
   "cell_type": "markdown",
   "id": "edc6a1f1",
   "metadata": {
    "papermill": {
     "duration": 0.016332,
     "end_time": "2023-08-13T11:33:36.374826",
     "exception": false,
     "start_time": "2023-08-13T11:33:36.358494",
     "status": "completed"
    },
    "tags": []
   },
   "source": [
    "**Hyperparameter tuning for SGD**"
   ]
  },
  {
   "cell_type": "code",
   "execution_count": 30,
   "id": "7a1b9445",
   "metadata": {
    "execution": {
     "iopub.execute_input": "2023-08-13T11:33:36.412987Z",
     "iopub.status.busy": "2023-08-13T11:33:36.412629Z",
     "iopub.status.idle": "2023-08-13T11:38:41.242356Z",
     "shell.execute_reply": "2023-08-13T11:38:41.241191Z"
    },
    "papermill": {
     "duration": 304.868662,
     "end_time": "2023-08-13T11:38:41.260408",
     "exception": false,
     "start_time": "2023-08-13T11:33:36.391746",
     "status": "completed"
    },
    "tags": []
   },
   "outputs": [
    {
     "name": "stdout",
     "output_type": "stream",
     "text": [
      "Training Accuracy: 0.7592524369480151\n",
      "Validation Accuracy: 0.7542315504400813\n",
      "Best params: {'alpha': 3.14891164795686e-05, 'loss': 'hinge', 'max_iter': 3000, 'penalty': 'l1', 'random_state': 42}\n",
      "done\n"
     ]
    },
    {
     "data": {
      "text/plain": [
       "304.8181850910187"
      ]
     },
     "execution_count": 30,
     "metadata": {},
     "output_type": "execute_result"
    }
   ],
   "source": [
    "import pandas as pd\n",
    "from sklearn.linear_model import SGDClassifier\n",
    "from sklearn.model_selection import RandomizedSearchCV\n",
    "from sklearn.metrics import accuracy_score\n",
    "from scipy.stats import uniform, loguniform\n",
    "import time as t\n",
    "s=t.time()\n",
    "param_dist = {\n",
    "    'loss': ['hinge', 'log', 'modified_huber'],\n",
    "    'alpha': loguniform(1e-6, 1e-2),\n",
    "    'penalty': ['none', 'l2', 'l1', 'elasticnet'],\n",
    "    'max_iter': [1000, 2000, 3000],\n",
    "    'random_state': [42]\n",
    "}\n",
    "sgd_classifier = SGDClassifier()\n",
    "random_search = RandomizedSearchCV(sgd_classifier, param_distributions=param_dist, n_iter=10, cv=3, scoring='accuracy', random_state=42)\n",
    "random_search.fit(X_train_split, y_train_split)\n",
    "best_params = random_search.best_params_\n",
    "best_classifier = random_search.best_estimator_\n",
    "\n",
    "best_classifier.fit(X_train_split, y_train_split)\n",
    "\n",
    "best_train_accuracy = best_classifier.score(X_train_split, y_train_split)\n",
    "print(f\"Training Accuracy: {best_train_accuracy}\")\n",
    "best_val_accuracy = best_classifier.score(X_val, y_val)\n",
    "print(f\"Validation Accuracy: {best_val_accuracy}\")\n",
    "\n",
    "print(f'Best params: {best_params}')\n",
    "y_pred_test = best_classifier.predict(X_test)\n",
    "\n",
    "submission = pd.DataFrame(y_pred_test, columns=[\"sentiment\"])\n",
    "submission.to_csv(\"submission_sgd.csv\", index_label=\"id\")\n",
    "print('done')\n",
    "e=t.time()\n",
    "e-s"
   ]
  },
  {
   "cell_type": "markdown",
   "id": "4e058e9e",
   "metadata": {
    "papermill": {
     "duration": 0.016247,
     "end_time": "2023-08-13T11:38:41.293148",
     "exception": false,
     "start_time": "2023-08-13T11:38:41.276901",
     "status": "completed"
    },
    "tags": []
   },
   "source": [
    "**LinearSVC**"
   ]
  },
  {
   "cell_type": "code",
   "execution_count": 31,
   "id": "44192222",
   "metadata": {
    "execution": {
     "iopub.execute_input": "2023-08-13T11:38:41.328382Z",
     "iopub.status.busy": "2023-08-13T11:38:41.328034Z",
     "iopub.status.idle": "2023-08-13T11:39:21.550239Z",
     "shell.execute_reply": "2023-08-13T11:39:21.548609Z"
    },
    "papermill": {
     "duration": 40.256019,
     "end_time": "2023-08-13T11:39:21.565710",
     "exception": false,
     "start_time": "2023-08-13T11:38:41.309691",
     "status": "completed"
    },
    "tags": []
   },
   "outputs": [
    {
     "name": "stdout",
     "output_type": "stream",
     "text": [
      "LinearSVC\n",
      "Training Accuracy: 0.8056415719932691\n",
      "Validation Accuracy: 0.7767334421920427\n",
      "done\n"
     ]
    }
   ],
   "source": [
    "print('LinearSVC')\n",
    "from sklearn.svm import LinearSVC\n",
    "# linear_svc = LinearSVC(C= 3.8720902953704153, loss= 'hinge', max_iter = 1000, random_state = 42)\n",
    "# linear_svc = LinearSVC(C= 0.25706035661175963, loss= 'squared_hinge', max_iter= 3000, random_state= 42) #audsco hpt\n",
    "linear_svc = LinearSVC(random_state = 42)\n",
    "linear_svc.fit(X_train_split, y_train_split)\n",
    "\n",
    "svc_train_accuracy = linear_svc.score(X_train_split, y_train_split)\n",
    "print(f\"Training Accuracy: {svc_train_accuracy}\")\n",
    "svc_val_accuracy = linear_svc.score(X_val, y_val)\n",
    "print(f\"Validation Accuracy: {svc_val_accuracy}\")\n",
    "\n",
    "y_pred_test = linear_svc.predict(X_test)\n",
    "submission = pd.DataFrame(y_pred_test, columns=[\"sentiment\"])\n",
    "submission.to_csv(\"submission_linearsvc.csv\", index_label=\"id\")\n",
    "print('done')"
   ]
  },
  {
   "cell_type": "code",
   "execution_count": 32,
   "id": "6cc4f829",
   "metadata": {
    "execution": {
     "iopub.execute_input": "2023-08-13T11:39:21.599711Z",
     "iopub.status.busy": "2023-08-13T11:39:21.599377Z",
     "iopub.status.idle": "2023-08-13T11:40:15.452563Z",
     "shell.execute_reply": "2023-08-13T11:40:15.450496Z"
    },
    "papermill": {
     "duration": 53.889936,
     "end_time": "2023-08-13T11:40:15.471866",
     "exception": false,
     "start_time": "2023-08-13T11:39:21.581930",
     "status": "completed"
    },
    "tags": []
   },
   "outputs": [
    {
     "name": "stdout",
     "output_type": "stream",
     "text": [
      "Training Accuracy: 0.8518459516508025\n"
     ]
    }
   ],
   "source": [
    "linear_svc1 = LinearSVC(random_state = 42)\n",
    "linear_svc1.fit(X_train, y_train)\n",
    "\n",
    "svc_train_accuracy = linear_svc1.score(X_val, y_val)\n",
    "print(f\"Training Accuracy: {svc_train_accuracy}\")"
   ]
  },
  {
   "cell_type": "markdown",
   "id": "ace526cf",
   "metadata": {
    "papermill": {
     "duration": 0.016365,
     "end_time": "2023-08-13T11:40:15.505088",
     "exception": false,
     "start_time": "2023-08-13T11:40:15.488723",
     "status": "completed"
    },
    "tags": []
   },
   "source": [
    "**Logistic Regression**"
   ]
  },
  {
   "cell_type": "code",
   "execution_count": 33,
   "id": "68ec0ce7",
   "metadata": {
    "execution": {
     "iopub.execute_input": "2023-08-13T11:40:15.540013Z",
     "iopub.status.busy": "2023-08-13T11:40:15.539651Z",
     "iopub.status.idle": "2023-08-13T11:40:20.003232Z",
     "shell.execute_reply": "2023-08-13T11:40:20.001486Z"
    },
    "papermill": {
     "duration": 4.484301,
     "end_time": "2023-08-13T11:40:20.005946",
     "exception": false,
     "start_time": "2023-08-13T11:40:15.521645",
     "status": "completed"
    },
    "tags": []
   },
   "outputs": [
    {
     "name": "stdout",
     "output_type": "stream",
     "text": [
      "Log Reg\n",
      "Training Accuracy: 0.8237730626387741\n",
      "Validation Accuracy: 0.8027400533673185\n",
      "done\n"
     ]
    }
   ],
   "source": [
    "print('Log Reg')\n",
    "from sklearn.linear_model import LogisticRegression\n",
    "\n",
    "logreg = LogisticRegression(random_state = 42)\n",
    "logreg.fit(X_train_split, y_train_split)\n",
    "log_reg_train_accuracy = logreg.score(X_train_split, y_train_split)\n",
    "print(f\"Training Accuracy: {log_reg_train_accuracy}\")\n",
    "log_reg_val_accuracy = logreg.score(X_val, y_val)\n",
    "print(f\"Validation Accuracy: {log_reg_val_accuracy}\")\n",
    "\n",
    "y_pred_test = logreg.predict(X_test)\n",
    "submission = pd.DataFrame(y_pred_test, columns=[\"sentiment\"])\n",
    "submission.to_csv(\"submission_log_reg.csv\", index_label=\"id\")\n",
    "print('done')"
   ]
  },
  {
   "cell_type": "markdown",
   "id": "7643ab3c",
   "metadata": {
    "papermill": {
     "duration": 0.016613,
     "end_time": "2023-08-13T11:40:20.039511",
     "exception": false,
     "start_time": "2023-08-13T11:40:20.022898",
     "status": "completed"
    },
    "tags": []
   },
   "source": [
    "**Multinomial Naive Bayes**"
   ]
  },
  {
   "cell_type": "code",
   "execution_count": 34,
   "id": "b6caed50",
   "metadata": {
    "execution": {
     "iopub.execute_input": "2023-08-13T11:40:20.075366Z",
     "iopub.status.busy": "2023-08-13T11:40:20.075008Z",
     "iopub.status.idle": "2023-08-13T11:40:20.734474Z",
     "shell.execute_reply": "2023-08-13T11:40:20.733290Z"
    },
    "papermill": {
     "duration": 0.680487,
     "end_time": "2023-08-13T11:40:20.736875",
     "exception": false,
     "start_time": "2023-08-13T11:40:20.056388",
     "status": "completed"
    },
    "tags": []
   },
   "outputs": [
    {
     "name": "stdout",
     "output_type": "stream",
     "text": [
      "Multinomial NB\n",
      "Training Accuracy: 0.831927752830245\n",
      "Validation Accuracy: 0.7840614918953364\n",
      "done\n"
     ]
    }
   ],
   "source": [
    "print('Multinomial NB')\n",
    "from sklearn.naive_bayes import MultinomialNB\n",
    "# multi_nb = MultinomialNB(alpha=0.23357214690901212) #AudScore + reviewText HPT\n",
    "multi_nb = MultinomialNB(alpha=0.0001)\n",
    "multi_nb.fit(X_train_split, y_train_split)\n",
    "\n",
    "multi_nb_train_accuracy = multi_nb.score(X_train_split, y_train_split)\n",
    "print(f\"Training Accuracy: {multi_nb_train_accuracy}\")\n",
    "multi_nb_val_accuracy = multi_nb.score(X_val, y_val)\n",
    "print(f\"Validation Accuracy: {multi_nb_val_accuracy}\")\n",
    "\n",
    "y_pred_test = multi_nb.predict(X_test)\n",
    "submission = pd.DataFrame(y_pred_test, columns=[\"sentiment\"])\n",
    "submission.to_csv(\"submission_multi_nb.csv\", index_label=\"id\")\n",
    "print('done')"
   ]
  },
  {
   "cell_type": "markdown",
   "id": "43f71d8f",
   "metadata": {
    "papermill": {
     "duration": 0.016651,
     "end_time": "2023-08-13T11:40:20.770655",
     "exception": false,
     "start_time": "2023-08-13T11:40:20.754004",
     "status": "completed"
    },
    "tags": []
   },
   "source": [
    "# Comparison"
   ]
  },
  {
   "cell_type": "code",
   "execution_count": 35,
   "id": "25846c93",
   "metadata": {
    "execution": {
     "iopub.execute_input": "2023-08-13T11:40:20.807938Z",
     "iopub.status.busy": "2023-08-13T11:40:20.807594Z",
     "iopub.status.idle": "2023-08-13T11:40:20.821499Z",
     "shell.execute_reply": "2023-08-13T11:40:20.819650Z"
    },
    "papermill": {
     "duration": 0.035055,
     "end_time": "2023-08-13T11:40:20.823604",
     "exception": false,
     "start_time": "2023-08-13T11:40:20.788549",
     "status": "completed"
    },
    "tags": []
   },
   "outputs": [
    {
     "data": {
      "text/html": [
       "<div>\n",
       "<style scoped>\n",
       "    .dataframe tbody tr th:only-of-type {\n",
       "        vertical-align: middle;\n",
       "    }\n",
       "\n",
       "    .dataframe tbody tr th {\n",
       "        vertical-align: top;\n",
       "    }\n",
       "\n",
       "    .dataframe thead th {\n",
       "        text-align: right;\n",
       "    }\n",
       "</style>\n",
       "<table border=\"1\" class=\"dataframe\">\n",
       "  <thead>\n",
       "    <tr style=\"text-align: right;\">\n",
       "      <th></th>\n",
       "      <th>Model</th>\n",
       "      <th>TrainScore</th>\n",
       "      <th>ValidationScore</th>\n",
       "    </tr>\n",
       "  </thead>\n",
       "  <tbody>\n",
       "    <tr>\n",
       "      <th>0</th>\n",
       "      <td>LinearSVC</td>\n",
       "      <td>0.851846</td>\n",
       "      <td>0.776733</td>\n",
       "    </tr>\n",
       "    <tr>\n",
       "      <th>1</th>\n",
       "      <td>Logistic Regression</td>\n",
       "      <td>0.823773</td>\n",
       "      <td>0.802740</td>\n",
       "    </tr>\n",
       "    <tr>\n",
       "      <th>2</th>\n",
       "      <td>Multinomial NB</td>\n",
       "      <td>0.831928</td>\n",
       "      <td>0.784061</td>\n",
       "    </tr>\n",
       "    <tr>\n",
       "      <th>3</th>\n",
       "      <td>SGD</td>\n",
       "      <td>0.759252</td>\n",
       "      <td>0.754232</td>\n",
       "    </tr>\n",
       "  </tbody>\n",
       "</table>\n",
       "</div>"
      ],
      "text/plain": [
       "                 Model  TrainScore  ValidationScore\n",
       "0            LinearSVC    0.851846         0.776733\n",
       "1  Logistic Regression    0.823773         0.802740\n",
       "2       Multinomial NB    0.831928         0.784061\n",
       "3                  SGD    0.759252         0.754232"
      ]
     },
     "execution_count": 35,
     "metadata": {},
     "output_type": "execute_result"
    }
   ],
   "source": [
    "scores = [['LinearSVC',svc_train_accuracy,svc_val_accuracy],\n",
    "          ['Logistic Regression',log_reg_train_accuracy,log_reg_val_accuracy],\n",
    "           ['Multinomial NB',multi_nb_train_accuracy,multi_nb_val_accuracy],\n",
    "          ['SGD',sgd_train_accuracy,sgd_val_accuracy]]\n",
    "\n",
    "score_df = pd.DataFrame(scores, columns = ['Model' , 'TrainScore','ValidationScore'])\n",
    "score_df"
   ]
  },
  {
   "cell_type": "code",
   "execution_count": 36,
   "id": "45b9c3f5",
   "metadata": {
    "execution": {
     "iopub.execute_input": "2023-08-13T11:40:20.859441Z",
     "iopub.status.busy": "2023-08-13T11:40:20.859093Z",
     "iopub.status.idle": "2023-08-13T11:40:20.873381Z",
     "shell.execute_reply": "2023-08-13T11:40:20.871983Z"
    },
    "papermill": {
     "duration": 0.035218,
     "end_time": "2023-08-13T11:40:20.875929",
     "exception": false,
     "start_time": "2023-08-13T11:40:20.840711",
     "status": "completed"
    },
    "tags": []
   },
   "outputs": [
    {
     "data": {
      "text/html": [
       "<div>\n",
       "<style scoped>\n",
       "    .dataframe tbody tr th:only-of-type {\n",
       "        vertical-align: middle;\n",
       "    }\n",
       "\n",
       "    .dataframe tbody tr th {\n",
       "        vertical-align: top;\n",
       "    }\n",
       "\n",
       "    .dataframe thead th {\n",
       "        text-align: right;\n",
       "    }\n",
       "</style>\n",
       "<table border=\"1\" class=\"dataframe\">\n",
       "  <thead>\n",
       "    <tr style=\"text-align: right;\">\n",
       "      <th></th>\n",
       "      <th>Model</th>\n",
       "      <th>TrainScore</th>\n",
       "      <th>ValidationScore</th>\n",
       "    </tr>\n",
       "  </thead>\n",
       "  <tbody>\n",
       "    <tr>\n",
       "      <th>0</th>\n",
       "      <td>LinearSVC</td>\n",
       "      <td>0.851846</td>\n",
       "      <td>0.776733</td>\n",
       "    </tr>\n",
       "    <tr>\n",
       "      <th>2</th>\n",
       "      <td>Multinomial NB</td>\n",
       "      <td>0.831928</td>\n",
       "      <td>0.784061</td>\n",
       "    </tr>\n",
       "    <tr>\n",
       "      <th>1</th>\n",
       "      <td>Logistic Regression</td>\n",
       "      <td>0.823773</td>\n",
       "      <td>0.802740</td>\n",
       "    </tr>\n",
       "    <tr>\n",
       "      <th>3</th>\n",
       "      <td>SGD</td>\n",
       "      <td>0.759252</td>\n",
       "      <td>0.754232</td>\n",
       "    </tr>\n",
       "  </tbody>\n",
       "</table>\n",
       "</div>"
      ],
      "text/plain": [
       "                 Model  TrainScore  ValidationScore\n",
       "0            LinearSVC    0.851846         0.776733\n",
       "2       Multinomial NB    0.831928         0.784061\n",
       "1  Logistic Regression    0.823773         0.802740\n",
       "3                  SGD    0.759252         0.754232"
      ]
     },
     "execution_count": 36,
     "metadata": {},
     "output_type": "execute_result"
    }
   ],
   "source": [
    "score_df.sort_values(by=[\"TrainScore\", \"ValidationScore\"], ascending = False)"
   ]
  },
  {
   "cell_type": "code",
   "execution_count": 37,
   "id": "d90c0f5c",
   "metadata": {
    "execution": {
     "iopub.execute_input": "2023-08-13T11:40:20.912605Z",
     "iopub.status.busy": "2023-08-13T11:40:20.912223Z",
     "iopub.status.idle": "2023-08-13T11:40:21.255588Z",
     "shell.execute_reply": "2023-08-13T11:40:21.254735Z"
    },
    "papermill": {
     "duration": 0.364148,
     "end_time": "2023-08-13T11:40:21.257435",
     "exception": false,
     "start_time": "2023-08-13T11:40:20.893287",
     "status": "completed"
    },
    "tags": []
   },
   "outputs": [
    {
     "data": {
      "image/png": "[encoded data removed]",
      "text/plain": [
       "<Figure size 1600x800 with 1 Axes>"
      ]
     },
     "metadata": {},
     "output_type": "display_data"
    }
   ],
   "source": [
    "import numpy as np\n",
    "import matplotlib.pyplot as plt\n",
    "\n",
    "xpos = np.arange(4)\n",
    "plt.figure(figsize=(16, 8))\n",
    "\n",
    "plt.xticks(xpos, score_df['Model'])\n",
    "plt.ylabel(\"Scores\")\n",
    "plt.title(\"Considering AudienceScore and ReviewText\\nTraining and Validation Scores of Various Classification Models\")\n",
    "trainbar = plt.bar(xpos - 0.2, score_df['TrainScore'], width=0.4, label=\"Train Score\")\n",
    "valbar = plt.bar(xpos + 0.2, score_df['ValidationScore'], width=0.4, label=\"Validation Score\")\n",
    "\n",
    "plt.legend()\n",
    "\n",
    "for count, rect in enumerate(trainbar + valbar):\n",
    "    height = rect.get_height()\n",
    "    plt.text(\n",
    "        rect.get_x() + rect.get_width() / 2.0,\n",
    "        height,\n",
    "        \"%0.5f\" % score_df[\"TrainScore\"][count] if count < 4 else \"%0.5f\" % score_df[\"ValidationScore\"][count - 4],\n",
    "        ha=\"center\",\n",
    "        va=\"bottom\",\n",
    "        weight=\"bold\",\n",
    "        fontsize=15,\n",
    "    )\n",
    "\n",
    "plt.tight_layout()\n",
    "plt.show()\n"
   ]
  },
  {
   "cell_type": "code",
   "execution_count": null,
   "id": "8f9c5bdc",
   "metadata": {
    "papermill": {
     "duration": 0.017357,
     "end_time": "2023-08-13T11:40:21.292263",
     "exception": false,
     "start_time": "2023-08-13T11:40:21.274906",
     "status": "completed"
    },
    "tags": []
   },
   "outputs": [],
   "source": []
  }
 ],
 "metadata": {
  "kernelspec": {
   "display_name": "Python 3",
   "language": "python",
   "name": "python3"
  },
  "language_info": {
   "codemirror_mode": {
    "name": "ipython",
    "version": 3
   },
   "file_extension": ".py",
   "mimetype": "text/x-python",
   "name": "python",
   "nbconvert_exporter": "python",
   "pygments_lexer": "ipython3",
   "version": "3.10.10"
  },
  "papermill": {
   "default_parameters": {},
   "duration": 461.917021,
   "end_time": "2023-08-13T11:40:22.533120",
   "environment_variables": {},
   "exception": null,
   "input_path": "__notebook__.ipynb",
   "output_path": "__notebook__.ipynb",
   "parameters": {},
   "start_time": "2023-08-13T11:32:40.616099",
   "version": "2.4.0"
  }
 },
 "nbformat": 4,
 "nbformat_minor": 5
}
